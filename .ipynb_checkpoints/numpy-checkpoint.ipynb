{
 "cells": [
  {
   "cell_type": "markdown",
   "id": "726c90d1",
   "metadata": {},
   "source": [
    "### 所有的便當外帶打8折"
   ]
  },
  {
   "cell_type": "code",
   "execution_count": 5,
   "id": "cdae4539",
   "metadata": {},
   "outputs": [
    {
     "name": "stdout",
     "output_type": "stream",
     "text": [
      "[176.0, 120.0, 144.0, 72.0, 80.0, 272.0]\n"
     ]
    }
   ],
   "source": [
    "prices = [220, 150, 180, 90, 100, 340]\n",
    "new_prices = list()\n",
    "for price in prices:\n",
    "    new_prices.append(price*0.8)\n",
    "print(new_prices)"
   ]
  },
  {
   "cell_type": "markdown",
   "id": "4f86c35a",
   "metadata": {},
   "source": [
    "### 另外一種寫法 "
   ]
  },
  {
   "cell_type": "code",
   "execution_count": 7,
   "id": "56444b5e",
   "metadata": {},
   "outputs": [
    {
     "name": "stdout",
     "output_type": "stream",
     "text": [
      "[176.0, 120.0, 144.0, 72.0, 80.0, 272.0]\n"
     ]
    }
   ],
   "source": [
    "prices = [220, 150, 180, 90, 100, 340]\n",
    "new_prices = list()\n",
    "new_prices = [price*0.8 for price in prices]\n",
    "print(new_prices)"
   ]
  },
  {
   "cell_type": "markdown",
   "id": "1942f189",
   "metadata": {},
   "source": [
    "### 所有的便當外帶打8折 （使用numpy）"
   ]
  },
  {
   "cell_type": "code",
   "execution_count": null,
   "id": "99aa7a8d",
   "metadata": {},
   "outputs": [],
   "source": []
  },
  {
   "cell_type": "code",
   "execution_count": 8,
   "id": "87b759ad",
   "metadata": {},
   "outputs": [
    {
     "name": "stdout",
     "output_type": "stream",
     "text": [
      "[220 150 180  90 100 340]\n",
      "[176. 120. 144.  72.  80. 272.]\n"
     ]
    }
   ],
   "source": [
    "import numpy as np\n",
    "\n",
    "prices = np.array([220, 150, 180, 90, 100, 340])\n",
    "discount = 0.8\n",
    "print(prices)\n",
    "print(prices*discount)"
   ]
  },
  {
   "cell_type": "markdown",
   "id": "340e612f",
   "metadata": {},
   "source": [
    "### 只有超過100元的便當外帶才有8折優惠"
   ]
  },
  {
   "cell_type": "code",
   "execution_count": 9,
   "id": "99ffeca6",
   "metadata": {},
   "outputs": [
    {
     "name": "stdout",
     "output_type": "stream",
     "text": [
      "[220 150 180  90 100 340]\n",
      "[ True  True  True False False  True]\n",
      "[176. 120. 144.   0.   0. 272.]\n"
     ]
    }
   ],
   "source": [
    "import numpy as np\n",
    "prices = np.array([220, 150, 180, 90, 100, 340])\n",
    "discount = 0.8\n",
    "print(prices)\n",
    "print(prices>100)\n",
    "target = prices > 100\n",
    "print(prices*target*discount)"
   ]
  },
  {
   "cell_type": "markdown",
   "id": "a3a03f00",
   "metadata": {},
   "source": [
    "### 計算加權成績 （一個同學）"
   ]
  },
  {
   "cell_type": "code",
   "execution_count": 12,
   "id": "3f1e2d29",
   "metadata": {},
   "outputs": [
    {
     "name": "stdout",
     "output_type": "stream",
     "text": [
      "Your final score is  70.5\n",
      "Your final score is  70.5\n"
     ]
    }
   ],
   "source": [
    "import numpy as np\n",
    "scores = np.array([80, 95, 45])\n",
    "weights = np.array([0.3, 0.3, 0.4])\n",
    "results = scores * weights\n",
    "print(\"Your final score is \", results.sum())\n",
    "print(\"Your final score is \", scores.dot(weights)) # better method, of course"
   ]
  },
  {
   "cell_type": "markdown",
   "id": "190c60fb",
   "metadata": {},
   "source": [
    "### 計算加權成績（一堆同學）"
   ]
  },
  {
   "cell_type": "code",
   "execution_count": 14,
   "id": "93ba394b",
   "metadata": {},
   "outputs": [
    {
     "name": "stdout",
     "output_type": "stream",
     "text": [
      "Your final score is  [70.5 64.4 93.7]\n"
     ]
    }
   ],
   "source": [
    "import numpy as np\n",
    "scores = np.array([[80, 95, 45], \n",
    "                  [50, 78, 65], \n",
    "                  [80, 99, 100]])\n",
    "weights = np.array([0.3, 0.3, 0.4])\n",
    "results = scores * weights\n",
    "print(\"Your final score is \", scores.dot(weights))"
   ]
  }
 ],
 "metadata": {
  "kernelspec": {
   "display_name": "Python 3",
   "language": "python",
   "name": "python3"
  },
  "language_info": {
   "codemirror_mode": {
    "name": "ipython",
    "version": 3
   },
   "file_extension": ".py",
   "mimetype": "text/x-python",
   "name": "python",
   "nbconvert_exporter": "python",
   "pygments_lexer": "ipython3",
   "version": "3.7.4"
  }
 },
 "nbformat": 4,
 "nbformat_minor": 5
}
